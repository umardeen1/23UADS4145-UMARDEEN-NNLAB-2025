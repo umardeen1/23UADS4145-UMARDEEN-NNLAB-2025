{
 "cells": [
  {
   "cell_type": "code",
   "execution_count": 5,
   "id": "e642cd77-7a7d-4a50-938f-39964434c9de",
   "metadata": {},
   "outputs": [],
   "source": [
    "import numpy as np\n",
    "\n",
    "class Perceptron:\n",
    "    def __init__(self, input_size, learning_rate=0.1, epochs=1000):\n",
    "        self.weights = np.random.randn(input_size + 1)  # +1 for bias\n",
    "        self.learning_rate = learning_rate\n",
    "        self.epochs = epochs\n",
    "\n",
    "    def activation(self, x):\n",
    "        return 1 if x >= 0 else 0\n",
    "\n",
    "    def train(self, X, y):\n",
    "        X = np.c_[np.ones((X.shape[0], 1)), X]  # Add bias column\n",
    "        for epoch in range(self.epochs):\n",
    "            for i in range(X.shape[0]):\n",
    "                y_pred = self.activation(np.dot(self.weights, X[i]))\n",
    "                self.weights += self.learning_rate * (y[i] - y_pred) * X[i]\n",
    "\n",
    "    def predict(self, X, y):\n",
    "        y_pred = []\n",
    "        for x in X:\n",
    "            x_with_bias = np.insert(x, 0, 1)  # Add bias term\n",
    "            prediction = self.activation(np.dot(self.weights, x_with_bias))\n",
    "            y_pred.append(prediction)\n",
    "        return y_pred"
   ]
  },
  {
   "cell_type": "code",
   "execution_count": 6,
   "id": "7075d7b4-748f-44cc-bf32-efac4f1014e6",
   "metadata": {},
   "outputs": [],
   "source": [
    "# Define functions dynamically\n",
    "Hidden_ly_output = [\n",
    "    np.array([0, 0, 0, 1]),\n",
    "    np.array([0, 0, 1, 0]),\n",
    "    np.array([0, 1, 0, 0]),\n",
    "    np.array([1, 0, 0, 0])\n",
    "]\n",
    "\n",
    "X = np.array([[0, 0], [0, 1], [1, 0], [1, 1]])\n",
    "predictions = []\n",
    "\n",
    "# Train perceptrons for each function dynamically i.e 4 neurons for 4 different inputs\n",
    "for y in Hidden_ly_output:\n",
    "    perceptron = Perceptron(input_size=2,epochs=15)\n",
    "    perceptron.train(X, y)\n",
    "    y_pred = perceptron.predict(X, y)\n",
    "    predictions.append(y_pred)"
   ]
  },
  {
   "cell_type": "code",
   "execution_count": 7,
   "id": "74b547c3-7ac3-4d5f-a3ec-96600c52b84d",
   "metadata": {},
   "outputs": [
    {
     "name": "stdout",
     "output_type": "stream",
     "text": [
      "\n",
      "XOR Truth Table Predictions:\n",
      " X1  X2 |  y_actual  y_pred\n",
      "---------------------------\n",
      " 0   0  |     0        0\n",
      " 0   1  |     1        1\n",
      " 1   0  |     1        1\n",
      " 1   1  |     0        0\n"
     ]
    }
   ],
   "source": [
    "# Convert predictions into input for final perceptron\n",
    "final_X = np.array(predictions)\n",
    "\n",
    "final_y = np.array([0, 1, 1, 0]) # XOR output\n",
    "\n",
    "# Train final perceptron\n",
    "final_perceptron = Perceptron(input_size=len(final_X),epochs=15)\n",
    "final_perceptron.train(final_X, final_y)\n",
    "final_predictions = final_perceptron.predict(final_X, final_y)\n",
    "\n",
    "# Display XOR truth table with predictions\n",
    "print(\"\\nXOR Truth Table Predictions:\")\n",
    "print(\" X1  X2 |  y_actual  y_pred\")\n",
    "print(\"---------------------------\")\n",
    "for i in range(len(X)):\n",
    "    print(f\" {X[i][0]}   {X[i][1]}  |     {final_y[i]}        {final_predictions[i]}\")"
   ]
  },
  {
   "cell_type": "code",
   "execution_count": 8,
   "id": "3f561ade-d675-4645-a419-10d6a4358866",
   "metadata": {},
   "outputs": [
    {
     "name": "stdout",
     "output_type": "stream",
     "text": [
      "Final Perceptron Accuracy: 100.00%\n",
      "\n"
     ]
    },
    {
     "data": {
      "image/png": "[encoded data removed]",
      "text/plain": [
       "<Figure size 640x480 with 2 Axes>"
      ]
     },
     "metadata": {},
     "output_type": "display_data"
    },
    {
     "name": "stdout",
     "output_type": "stream",
     "text": [
      "\n"
     ]
    }
   ],
   "source": [
    "import matplotlib.pyplot as plt\n",
    "from sklearn.metrics import confusion_matrix, ConfusionMatrixDisplay, accuracy_score\n",
    "\n",
    "\n",
    "accuracy = accuracy_score(final_y, final_predictions)\n",
    "print(f\"Final Perceptron Accuracy: {accuracy * 100:.2f}%\")\n",
    "print()\n",
    "\n",
    "cm = confusion_matrix(final_y, final_predictions)\n",
    "ConfusionMatrixDisplay(cm).plot()\n",
    "plt.title(\"Confusion Matrix for XOR using MLP\")\n",
    "plt.show()\n",
    "print()"
   ]
  },
  {
   "cell_type": "code",
   "execution_count": null,
   "id": "51deafb1-8ff9-4daf-a240-0aeaa86ae754",
   "metadata": {},
   "outputs": [],
   "source": []
  }
 ],
 "metadata": {
  "kernelspec": {
   "display_name": "Python 3 (ipykernel)",
   "language": "python",
   "name": "python3"
  },
  "language_info": {
   "codemirror_mode": {
    "name": "ipython",
    "version": 3
   },
   "file_extension": ".py",
   "mimetype": "text/x-python",
   "name": "python",
   "nbconvert_exporter": "python",
   "pygments_lexer": "ipython3",
   "version": "3.13.1"
  }
 },
 "nbformat": 4,
 "nbformat_minor": 5
}
